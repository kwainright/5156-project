{
 "cells": [
  {
   "cell_type": "markdown",
   "metadata": {},
   "source": [
    "<h1>ITCS-5156 Project Proposal</h1>\n",
    "<h1>A Review of Convolutional Neural Network Applied to Fruit Image Processing</h1>\n",
    "<h3>Naranjo-Torres, J.; Mora, M.; Hernández-García, R.; Barrientos, R.J.; Fredes, C.; Valenzuela</h3>\n",
    "<h3>Appl. Sci. 2020</h3>\n",
    "<h3>by Kaleb Wainright</h3>\n"
   ]
  },
  {
   "cell_type": "markdown",
   "metadata": {},
   "source": [
    "<h1>Problem Statement</h1>\n",
    "<h3>The problem tackeled by this project will be classifying type of fruit from image data using a Convolutional Neural Network. The model will take in an image as input and return the fruit classification regarding what is pictured in the image.</h3>"
   ]
  },
  {
   "cell_type": "markdown",
   "metadata": {},
   "source": [
    "<h1>Data Set</h1>\n",
    "<h3>The data set is a large number of fruit images. The images are separated by folders which label the type of fruit from each group of images. The data set can be found on Kaggle here. https://www.kaggle.com/datasets/moltean/fruits</h3>"
   ]
  },
  {
   "cell_type": "code",
   "execution_count": 3,
   "metadata": {},
   "outputs": [
    {
     "data": {
      "image/jpeg": "[encoded data removed]",
      "text/plain": [
       "<IPython.core.display.Image object>"
      ]
     },
     "execution_count": 3,
     "metadata": {},
     "output_type": "execute_result"
    }
   ],
   "source": [
    "from IPython.display import Image\n",
    "Image(filename='archive-2/fruits-360_dataset/fruits-360/Training/Watermelon/0_100.jpg') \n"
   ]
  },
  {
   "cell_type": "code",
   "execution_count": 4,
   "metadata": {},
   "outputs": [
    {
     "data": {
      "image/jpeg": "[encoded data removed]",
      "text/plain": [
       "<IPython.core.display.Image object>"
      ]
     },
     "execution_count": 4,
     "metadata": {},
     "output_type": "execute_result"
    }
   ],
   "source": [
    "Image(filename='archive-2/fruits-360_dataset/fruits-360/Training/Strawberry/0_100.jpg') "
   ]
  },
  {
   "cell_type": "markdown",
   "metadata": {},
   "source": [
    "<h1>Motivation</h1>\n",
    "<h3>The Aggricultural production of produce has only become more computerized throughout time. Machine learning and computer vision offer many advantages to improve upon the current processes for produce processing for ditribution. A fruit classification model would be helpful for fruit distribution centers who deal with multiple fruit types at once. For example a manufacturing center producing mixed bags of frozen fruit could have multiple fruits being processed in the same line for different product groupings.</h3>"
   ]
  },
  {
   "cell_type": "markdown",
   "metadata": {},
   "source": [
    "<h1>Survey on the Area<h1>\n",
    "    <h2>Naranjo-Torres, José, et al. “A Review of Convolutional Neural Network Applied to Fruit Image Processing.” Applied Sciences, vol. 10, no. 10, May 2020, p. 3443. Crossref, https://doi.org/10.3390/app10103443.</h2>\n",
    "    <h2>Siddiqi, Raheel. ‘Comparative Performance of Various Deep Learning Based Models in Fruit Image Classification’. Proceedings of the 11th International Conference on Advances in Information Technology, Association for Computing Machinery, 2020, https://doi.org10.1145/3406601.3406619. IAIT2020.</h2>\n",
    "    <h2>Seng, Woo Chaw, and Seyed Hadi Mirisaee. ‘A New Method for Fruits Recognition System’. 2009 International Conference on Electrical Engineering and Informatics, vol. 01, 2009, pp. 130–134, https://doi.org10.1109/ICEEI.2009.5254804.</h2>\n",
    "    \n",
    "    These three papers have been chosen to provide a large array of information when creating the project code. Multiple exampmles of Convolutional Neural Networks will better inform my solution. Additionally, the papers focuse on different relevant features pertaining to the fruit in the images. The different perspectives on which features to consider will help me narrow down the relevant features for my project."
   ]
  },
  {
   "cell_type": "markdown",
   "metadata": {},
   "source": [
    "Paper 1 Summary \n",
    "\n",
    "The paper is titled that is a review because it highlights mainly other works that have applied CNNs to fruit classifications problems. The paper breaks down the fruit classification problme further into two categories: fruit identification and fruit quality control. The identification tasks involve properly assigning labels to incoming images, and the quality control tasks identify fruit that is damaged or otherwise unfit for consumption. The paper outlines the components of CNNs and reports many successful implementations of CNNs for fruit classifciation tasks."
   ]
  },
  {
   "cell_type": "markdown",
   "metadata": {},
   "source": []
  },
  {
   "cell_type": "markdown",
   "metadata": {},
   "source": [
    "<h1>Summary of the Method</h1>\n",
    "The method used to solve this problem of image classification is a Convolutional Nerual Network. This is a neural network model with at least one convolutional layer that produces a final single output. The convolutional layer is often the final classifcation or prediction. The high level solution will be to process the incoming data to reduce noise and improve training efficiency before passing that data to to a CNN for classification. The CNN model will be imported from a popular framework like Tensorflow, and the fruits image data will be used to train the model. One the model is trained, it will be scored and evaluated for accuracy. "
   ]
  },
  {
   "cell_type": "markdown",
   "metadata": {},
   "source": [
    "\n",
    "\n",
    "| Proposal | Progress1 | Progress2 | Final |\n",
    "| --- | --- | --- | --- |\n",
    "| 4/9/2023 | 4/15/2023 | 4/22/2023 | 5/4/2023 |\n",
    "| Selected Method and papers | Provide Summary for related works & Ingest and Preproces Img Data | Train and Evaluate Model | Finalize Conclusion |"
   ]
  },
  {
   "cell_type": "markdown",
   "metadata": {},
   "source": [
    "<h2>Expecting Learning Outcomes</h2>\n",
    "I expect to learn how to work with Neural Networks for classification tasks. I have had a fear of working with neural networks in the past because of their compolexity when compared to solutions like linear regressions. This project will give me hands on experience working with neural networks and image preprocessing. "
   ]
  },
  {
   "cell_type": "code",
   "execution_count": null,
   "metadata": {},
   "outputs": [],
   "source": []
  }
 ],
 "metadata": {
  "kernelspec": {
   "display_name": "Python 3",
   "language": "python",
   "name": "python3"
  },
  "language_info": {
   "codemirror_mode": {
    "name": "ipython",
    "version": 3
   },
   "file_extension": ".py",
   "mimetype": "text/x-python",
   "name": "python",
   "nbconvert_exporter": "python",
   "pygments_lexer": "ipython3",
   "version": "3.8.3"
  }
 },
 "nbformat": 4,
 "nbformat_minor": 4
}
